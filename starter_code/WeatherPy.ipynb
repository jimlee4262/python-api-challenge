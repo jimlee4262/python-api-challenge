{
 "cells": [
  {
   "cell_type": "markdown",
   "metadata": {},
   "source": [
    "# WeatherPy\n",
    "----\n",
    "\n",
    "#### Note\n",
    "* Instructions have been included for each segment. You do not have to follow them exactly, but they are included to help you think through the steps."
   ]
  },
  {
   "cell_type": "code",
   "execution_count": 1,
   "metadata": {
    "scrolled": true
   },
   "outputs": [],
   "source": [
    "# Dependencies and Setup\n",
    "import matplotlib.pyplot as plt\n",
    "import pandas as pd\n",
    "import numpy as np\n",
    "import requests\n",
    "import time\n",
    "from scipy.stats import linregress\n",
    "\n",
    "# Import API key\n",
    "from api_keys import weather_api_key\n",
    "\n",
    "# Incorporated citipy to determine city based on latitude and longitude\n",
    "from citipy import citipy\n",
    "\n",
    "# Output File (CSV)\n",
    "output_data_file = \"output_data/cities.csv\"\n",
    "\n",
    "# Range of latitudes and longitudes\n",
    "lat_range = (-90, 90)\n",
    "lng_range = (-180, 180)"
   ]
  },
  {
   "cell_type": "markdown",
   "metadata": {},
   "source": [
    "## Generate Cities List"
   ]
  },
  {
   "cell_type": "code",
   "execution_count": 2,
   "metadata": {},
   "outputs": [
    {
     "data": {
      "text/plain": [
       "603"
      ]
     },
     "execution_count": 2,
     "metadata": {},
     "output_type": "execute_result"
    }
   ],
   "source": [
    "# List for holding lat_lngs and cities\n",
    "lat_lngs = []\n",
    "cities = []\n",
    "\n",
    "# Create a set of random lat and lng combinations\n",
    "lats = np.random.uniform(lat_range[0], lat_range[1], size=1500)\n",
    "lngs = np.random.uniform(lng_range[0], lng_range[1], size=1500)\n",
    "lat_lngs = zip(lats, lngs)\n",
    "\n",
    "# Identify nearest city for each lat, lng combination\n",
    "for lat_lng in lat_lngs:\n",
    "    city = citipy.nearest_city(lat_lng[0], lat_lng[1]).city_name\n",
    "    \n",
    "    # If the city is unique, then add it to a our cities list\n",
    "    if city not in cities:\n",
    "        cities.append(city)\n",
    "\n",
    "# Print the city count to confirm sufficient count\n",
    "len(cities)"
   ]
  },
  {
   "cell_type": "markdown",
   "metadata": {},
   "source": [
    "### Perform API Calls\n",
    "* Perform a weather check on each city using a series of successive API calls.\n",
    "* Include a print log of each city as it'sbeing processed (with the city number and city name).\n"
   ]
  },
  {
   "cell_type": "code",
   "execution_count": 3,
   "metadata": {},
   "outputs": [
    {
     "name": "stdout",
     "output_type": "stream",
     "text": [
      "Processing Record 1 of Set1 | sitka\n",
      "Processing Record 2 of Set1 | nerchinskiy zavod\n",
      "Processing Record 3 of Set1 | atuona\n",
      "Processing Record 4 of Set1 | laguna\n",
      "Processing Record 5 of Set1 | butler\n",
      "Processing Record 6 of Set1 | jamestown\n",
      "Processing Record 7 of Set1 | portland\n",
      "Processing Record 8 of Set1 | morondava\n",
      "Processing Record 9 of Set1 | oxford\n",
      "Processing Record 10 of Set1 | verkhoyansk\n",
      "Processing Record 11 of Set1 | rikitea\n",
      "Processing Record 12 of Set1 | punta arenas\n",
      "Processing Record 13 of Set1 | tiksi\n",
      "Processing Record 14 of Set1 | hobart\n",
      "Processing Record 15 of Set1 | bengkulu\n",
      "Processing Record 16 of Set1 | guerrero negro\n",
      "Processing Record 17 of Set1 | ler\n",
      "Processing Record 18 of Set1 | husavik\n",
      "Processing Record 19 of Set1 | coquimbo\n",
      "Processing Record 20 of Set1 | ancud\n",
      "Processing Record 21 of Set1 | aklavik\n",
      "Processing Record 22 of Set1 | saint-philippe\n",
      "Processing Record 23 of Set1 | isla vista\n",
      "Processing Record 24 of Set1 | naze\n",
      "Processing Record 25 of Set1 | upernavik\n",
      "Processing Record 26 of Set1 | kapaa\n",
      "Processing Record 27 of Set1 | gari\n",
      "Processing Record 28 of Set1 | mar del plata\n",
      "Processing Record 29 of Set1 | hilo\n",
      "Processing Record 30 of Set1 | nikolayevsk-na-amure\n",
      "Processing Record 31 of Set1 | mataura\n",
      "Processing Record 32 of Set1 | praxedis guerrero\n",
      "Processing Record 33 of Set1 | lagoa\n",
      "Processing Record 34 of Set1 | lompoc\n",
      "Processing Record 35 of Set1 | avarua\n",
      "Processing Record 36 of Set1 | bethel\n",
      "Processing Record 37 of Set1 | tuktoyaktuk\n",
      "Processing Record 38 of Set1 | hithadhoo\n",
      "Processing Record 39 of Set1 | sobolevo\n",
      "Processing Record 40 of Set1 | ushuaia\n",
      "Processing Record 41 of Set1 | kaeo\n",
      "Processing Record 42 of Set1 | mount gambier\n",
      "Processing Record 43 of Set1 | qaanaaq\n",
      "Processing Record 44 of Set1 | tasiilaq\n",
      "Processing Record 45 of Set1 | atasu\n",
      "Processing Record 46 of Set1 | price\n",
      "Processing Record 47 of Set1 | ilulissat\n",
      "Processing Record 48 of Set1 | jijiga\n",
      "Processing Record 49 of Set1 | busselton\n",
      "Processing Record 50 of Set1 | hermanus\n",
      "Processing Record 0 of Set2 | caninde\n",
      "Processing Record 1 of Set2 | chapais\n",
      "Processing Record 2 of Set2 | ketchikan\n",
      "Processing Record 3 of Set2 | moundou\n",
      "Processing Record 4 of Set2 | jacareacanga\n",
      "Processing Record 5 of Set2 | bahia blanca\n",
      "Processing Record 6 of Set2 | bowen\n",
      "Processing Record 7 of Set2 | kodiak\n",
      "City not found. Skipping...\n",
      "Processing Record 8 of Set2 | vaini\n",
      "Processing Record 9 of Set2 | padilla\n",
      "Processing Record 10 of Set2 | muros\n",
      "Processing Record 11 of Set2 | la grande\n",
      "Processing Record 12 of Set2 | nikolskoye\n",
      "Processing Record 13 of Set2 | puerto ayora\n",
      "Processing Record 14 of Set2 | malkangiri\n",
      "Processing Record 15 of Set2 | albany\n",
      "Processing Record 16 of Set2 | ponta do sol\n",
      "Processing Record 17 of Set2 | asau\n",
      "Processing Record 18 of Set2 | anadyr\n",
      "City not found. Skipping...\n",
      "Processing Record 19 of Set2 | torbay\n",
      "Processing Record 20 of Set2 | chuy\n",
      "Processing Record 21 of Set2 | imeni babushkina\n",
      "Processing Record 22 of Set2 | inirida\n",
      "Processing Record 23 of Set2 | yellowknife\n",
      "Processing Record 24 of Set2 | tazovskiy\n",
      "Processing Record 25 of Set2 | dubbo\n",
      "Processing Record 26 of Set2 | port alfred\n",
      "Processing Record 27 of Set2 | cockburn town\n",
      "City not found. Skipping...\n",
      "City not found. Skipping...\n",
      "Processing Record 28 of Set2 | codrington\n",
      "Processing Record 29 of Set2 | nueve de julio\n",
      "Processing Record 30 of Set2 | bluff\n",
      "Processing Record 31 of Set2 | hambantota\n",
      "Processing Record 32 of Set2 | east london\n",
      "Processing Record 33 of Set2 | airai\n",
      "Processing Record 34 of Set2 | kavieng\n",
      "Processing Record 35 of Set2 | leningradskiy\n",
      "Processing Record 36 of Set2 | isangel\n",
      "City not found. Skipping...\n",
      "City not found. Skipping...\n",
      "City not found. Skipping...\n",
      "City not found. Skipping...\n",
      "Processing Record 37 of Set2 | lucea\n",
      "Processing Record 38 of Set2 | cape town\n",
      "Processing Record 39 of Set2 | zhangye\n",
      "City not found. Skipping...\n",
      "Processing Record 40 of Set2 | grindavik\n",
      "Processing Record 41 of Set2 | bilibino\n",
      "City not found. Skipping...\n",
      "Processing Record 42 of Set2 | saint-joseph\n",
      "Processing Record 43 of Set2 | pandan\n",
      "Processing Record 44 of Set2 | new norfolk\n",
      "Processing Record 45 of Set2 | khasan\n",
      "Processing Record 46 of Set2 | kifri\n",
      "Processing Record 47 of Set2 | omsukchan\n",
      "Processing Record 48 of Set2 | ixtapa\n",
      "Processing Record 49 of Set2 | san cristobal\n",
      "Processing Record 0 of Set3 | kaitangata\n",
      "Processing Record 1 of Set3 | derzhavinsk\n",
      "Processing Record 2 of Set3 | tautira\n",
      "Processing Record 3 of Set3 | belyy yar\n",
      "Processing Record 4 of Set3 | koumac\n",
      "Processing Record 5 of Set3 | khatanga\n",
      "Processing Record 6 of Set3 | alofi\n",
      "Processing Record 7 of Set3 | klichka\n",
      "Processing Record 8 of Set3 | acajutla\n",
      "Processing Record 9 of Set3 | kamenka\n",
      "Processing Record 10 of Set3 | teya\n",
      "Processing Record 11 of Set3 | kuching\n",
      "Processing Record 12 of Set3 | dikson\n",
      "Processing Record 13 of Set3 | salina\n",
      "Processing Record 14 of Set3 | palmas\n",
      "Processing Record 15 of Set3 | ust-tsilma\n",
      "Processing Record 16 of Set3 | esperance\n",
      "City not found. Skipping...\n",
      "City not found. Skipping...\n",
      "Processing Record 17 of Set3 | ijui\n",
      "City not found. Skipping...\n",
      "Processing Record 18 of Set3 | kruisfontein\n",
      "Processing Record 19 of Set3 | praia da vitoria\n",
      "Processing Record 20 of Set3 | saldanha\n",
      "Processing Record 21 of Set3 | rio grande\n",
      "Processing Record 22 of Set3 | ostrovnoy\n",
      "Processing Record 23 of Set3 | henties bay\n",
      "Processing Record 24 of Set3 | narsaq\n",
      "Processing Record 25 of Set3 | bredasdorp\n",
      "Processing Record 26 of Set3 | samarai\n",
      "Processing Record 27 of Set3 | coihaique\n",
      "Processing Record 28 of Set3 | komsomolskiy\n",
      "Processing Record 29 of Set3 | thompson\n",
      "Processing Record 30 of Set3 | verkhnyaya inta\n",
      "Processing Record 31 of Set3 | condoto\n",
      "Processing Record 32 of Set3 | westport\n",
      "Processing Record 33 of Set3 | socorro\n",
      "Processing Record 34 of Set3 | mosquera\n",
      "Processing Record 35 of Set3 | loding\n",
      "Processing Record 36 of Set3 | haines junction\n",
      "Processing Record 37 of Set3 | saint george\n",
      "Processing Record 38 of Set3 | halifax\n",
      "Processing Record 39 of Set3 | opuwo\n",
      "City not found. Skipping...\n",
      "Processing Record 40 of Set3 | bo phloi\n",
      "Processing Record 41 of Set3 | bambous virieux\n",
      "City not found. Skipping...\n",
      "Processing Record 42 of Set3 | lebu\n",
      "Processing Record 43 of Set3 | kviteseid\n",
      "Processing Record 44 of Set3 | sao joao da barra\n",
      "Processing Record 45 of Set3 | flinders\n",
      "Processing Record 46 of Set3 | sao jose da coroa grande\n",
      "Processing Record 47 of Set3 | nong khae\n",
      "Processing Record 48 of Set3 | dunedin\n",
      "Processing Record 49 of Set3 | kalino\n",
      "Processing Record 0 of Set4 | georgetown\n",
      "Processing Record 1 of Set4 | katsuura\n",
      "Processing Record 2 of Set4 | coolum beach\n",
      "Processing Record 3 of Set4 | fortuna\n",
      "Processing Record 4 of Set4 | shenjiamen\n",
      "Processing Record 5 of Set4 | chicama\n",
      "Processing Record 6 of Set4 | peterhead\n",
      "City not found. Skipping...\n",
      "Processing Record 7 of Set4 | dingle\n",
      "Processing Record 8 of Set4 | consett\n",
      "Processing Record 9 of Set4 | pinsk\n",
      "City not found. Skipping...\n",
      "Processing Record 10 of Set4 | loa janan\n",
      "City not found. Skipping...\n",
      "Processing Record 11 of Set4 | mezhdurechensk\n",
      "Processing Record 12 of Set4 | grafenhainichen\n",
      "Processing Record 13 of Set4 | barrow\n",
      "Processing Record 14 of Set4 | butaritari\n",
      "Processing Record 15 of Set4 | mount isa\n",
      "Processing Record 16 of Set4 | ainazi\n",
      "Processing Record 17 of Set4 | faanui\n",
      "Processing Record 18 of Set4 | arman\n",
      "Processing Record 19 of Set4 | kormilovka\n",
      "Processing Record 20 of Set4 | vila velha\n",
      "City not found. Skipping...\n",
      "Processing Record 21 of Set4 | piacabucu\n",
      "Processing Record 22 of Set4 | raga\n",
      "City not found. Skipping...\n",
      "Processing Record 23 of Set4 | oranjemund\n",
      "Processing Record 24 of Set4 | katangli\n",
      "Processing Record 25 of Set4 | petropavlovsk-kamchatskiy\n",
      "Processing Record 26 of Set4 | medvedovskaya\n",
      "Processing Record 27 of Set4 | manali\n",
      "Processing Record 28 of Set4 | kiama\n",
      "Processing Record 29 of Set4 | oga\n",
      "Processing Record 30 of Set4 | acapulco\n",
      "Processing Record 31 of Set4 | mahebourg\n",
      "Processing Record 32 of Set4 | amahai\n",
      "Processing Record 33 of Set4 | arak\n",
      "City not found. Skipping...\n",
      "Processing Record 34 of Set4 | cherskiy\n",
      "Processing Record 35 of Set4 | clyde river\n",
      "Processing Record 36 of Set4 | vanimo\n",
      "Processing Record 37 of Set4 | tabuk\n",
      "Processing Record 38 of Set4 | cabo san lucas\n",
      "Processing Record 39 of Set4 | chumikan\n"
     ]
    },
    {
     "name": "stdout",
     "output_type": "stream",
     "text": [
      "City not found. Skipping...\n",
      "Processing Record 40 of Set4 | chioggia\n",
      "Processing Record 41 of Set4 | milkovo\n",
      "Processing Record 42 of Set4 | sinnamary\n",
      "Processing Record 43 of Set4 | kieta\n",
      "Processing Record 44 of Set4 | smoky lake\n",
      "Processing Record 45 of Set4 | severo-kurilsk\n",
      "Processing Record 46 of Set4 | chokwe\n",
      "City not found. Skipping...\n",
      "Processing Record 47 of Set4 | hami\n",
      "Processing Record 48 of Set4 | marawi\n",
      "Processing Record 49 of Set4 | kendari\n",
      "Processing Record 0 of Set5 | lamu\n",
      "Processing Record 1 of Set5 | cabra\n",
      "Processing Record 2 of Set5 | turiacu\n",
      "City not found. Skipping...\n",
      "Processing Record 3 of Set5 | seymchan\n",
      "Processing Record 4 of Set5 | araouane\n",
      "City not found. Skipping...\n",
      "Processing Record 5 of Set5 | gejiu\n",
      "Processing Record 6 of Set5 | ribeira grande\n",
      "City not found. Skipping...\n",
      "Processing Record 7 of Set5 | constitucion\n",
      "Processing Record 8 of Set5 | kavaratti\n",
      "Processing Record 9 of Set5 | kailua\n",
      "Processing Record 10 of Set5 | chieti\n",
      "Processing Record 11 of Set5 | praia\n",
      "Processing Record 12 of Set5 | saint-pierre\n",
      "Processing Record 13 of Set5 | benito juarez\n",
      "Processing Record 14 of Set5 | baykit\n",
      "Processing Record 15 of Set5 | bonthe\n",
      "Processing Record 16 of Set5 | port elizabeth\n",
      "City not found. Skipping...\n",
      "Processing Record 17 of Set5 | kayes\n",
      "Processing Record 18 of Set5 | tuatapere\n",
      "Processing Record 19 of Set5 | preobrazheniye\n",
      "Processing Record 20 of Set5 | la ronge\n",
      "Processing Record 21 of Set5 | lagunas\n",
      "Processing Record 22 of Set5 | bathsheba\n",
      "Processing Record 23 of Set5 | palmer\n",
      "Processing Record 24 of Set5 | te anau\n",
      "Processing Record 25 of Set5 | rocha\n",
      "Processing Record 26 of Set5 | arraial do cabo\n",
      "Processing Record 27 of Set5 | nove hrady\n",
      "Processing Record 28 of Set5 | sola\n",
      "Processing Record 29 of Set5 | taoudenni\n",
      "Processing Record 30 of Set5 | lavrentiya\n",
      "Processing Record 31 of Set5 | takoradi\n",
      "Processing Record 32 of Set5 | north bend\n",
      "Processing Record 33 of Set5 | zhigansk\n",
      "Processing Record 34 of Set5 | yumen\n",
      "Processing Record 35 of Set5 | mayo\n",
      "Processing Record 36 of Set5 | ambilobe\n",
      "Processing Record 37 of Set5 | porbandar\n",
      "Processing Record 38 of Set5 | tambacounda\n",
      "Processing Record 39 of Set5 | nakhon pathom\n",
      "Processing Record 40 of Set5 | la sarre\n",
      "Processing Record 41 of Set5 | hasaki\n",
      "Processing Record 42 of Set5 | nishihara\n",
      "Processing Record 43 of Set5 | zyryanka\n",
      "Processing Record 44 of Set5 | avanigadda\n",
      "Processing Record 45 of Set5 | garden city\n",
      "Processing Record 46 of Set5 | santa isabel do rio negro\n",
      "City not found. Skipping...\n",
      "Processing Record 47 of Set5 | luderitz\n",
      "Processing Record 48 of Set5 | progreso\n",
      "Processing Record 49 of Set5 | longyearbyen\n",
      "Processing Record 0 of Set6 | la rioja\n",
      "Processing Record 1 of Set6 | at-bashi\n",
      "Processing Record 2 of Set6 | honningsvag\n",
      "Processing Record 3 of Set6 | carnarvon\n",
      "Processing Record 4 of Set6 | saint-jean-port-joli\n",
      "Processing Record 5 of Set6 | douglas\n",
      "Processing Record 6 of Set6 | karratha\n",
      "Processing Record 7 of Set6 | evensk\n",
      "City not found. Skipping...\n",
      "Processing Record 8 of Set6 | lubin\n",
      "Processing Record 9 of Set6 | denpasar\n",
      "Processing Record 10 of Set6 | srednekolymsk\n",
      "Processing Record 11 of Set6 | kapuskasing\n",
      "Processing Record 12 of Set6 | rincon\n",
      "City not found. Skipping...\n",
      "Processing Record 13 of Set6 | san pedro\n",
      "Processing Record 14 of Set6 | benguela\n",
      "Processing Record 15 of Set6 | souillac\n",
      "Processing Record 16 of Set6 | manado\n",
      "Processing Record 17 of Set6 | provideniya\n",
      "Processing Record 18 of Set6 | vardo\n",
      "Processing Record 19 of Set6 | gat\n",
      "Processing Record 20 of Set6 | beringovskiy\n",
      "Processing Record 21 of Set6 | nabire\n",
      "Processing Record 22 of Set6 | xingyi\n",
      "Processing Record 23 of Set6 | adrar\n",
      "Processing Record 24 of Set6 | mogadishu\n",
      "Processing Record 25 of Set6 | vao\n",
      "Processing Record 26 of Set6 | touros\n",
      "Processing Record 27 of Set6 | zdvinsk\n",
      "Processing Record 28 of Set6 | qinzhou\n",
      "Processing Record 29 of Set6 | castro\n",
      "Processing Record 30 of Set6 | zhuhai\n",
      "Processing Record 31 of Set6 | sisimiut\n",
      "Processing Record 32 of Set6 | pindwara\n",
      "Processing Record 33 of Set6 | sapele\n",
      "Processing Record 34 of Set6 | riyadh\n",
      "Processing Record 35 of Set6 | radford\n",
      "Processing Record 36 of Set6 | belmonte\n",
      "Processing Record 37 of Set6 | saint-andre-les-vergers\n",
      "Processing Record 38 of Set6 | ostersund\n",
      "Processing Record 39 of Set6 | nagina\n",
      "Processing Record 40 of Set6 | chulman\n",
      "Processing Record 41 of Set6 | havoysund\n",
      "Processing Record 42 of Set6 | peru\n",
      "Processing Record 43 of Set6 | viedma\n",
      "Processing Record 44 of Set6 | narasannapeta\n",
      "Processing Record 45 of Set6 | geraldton\n",
      "Processing Record 46 of Set6 | vila franca do campo\n",
      "Processing Record 47 of Set6 | newark\n",
      "City not found. Skipping...\n",
      "Processing Record 48 of Set6 | port moresby\n",
      "Processing Record 49 of Set6 | pakdasht\n",
      "Processing Record 0 of Set7 | etah\n",
      "Processing Record 1 of Set7 | nelson bay\n",
      "Processing Record 2 of Set7 | khandyga\n",
      "Processing Record 3 of Set7 | ucluelet\n",
      "City not found. Skipping...\n",
      "Processing Record 4 of Set7 | arlit\n",
      "Processing Record 5 of Set7 | maniitsoq\n",
      "Processing Record 6 of Set7 | winnemucca\n",
      "Processing Record 7 of Set7 | richards bay\n",
      "City not found. Skipping...\n",
      "Processing Record 8 of Set7 | kampli\n",
      "City not found. Skipping...\n",
      "City not found. Skipping...\n",
      "City not found. Skipping...\n",
      "Processing Record 9 of Set7 | caceres\n",
      "Processing Record 10 of Set7 | olafsvik\n",
      "Processing Record 11 of Set7 | aripuana\n",
      "Processing Record 12 of Set7 | birao\n",
      "City not found. Skipping...\n",
      "Processing Record 13 of Set7 | aurillac\n",
      "Processing Record 14 of Set7 | moerai\n",
      "Processing Record 15 of Set7 | bajil\n",
      "Processing Record 16 of Set7 | santiago de cao\n",
      "Processing Record 17 of Set7 | kyren\n",
      "Processing Record 18 of Set7 | cidreira\n",
      "Processing Record 19 of Set7 | chokurdakh\n",
      "Processing Record 20 of Set7 | bereda\n",
      "Processing Record 21 of Set7 | yerbogachen\n",
      "Processing Record 22 of Set7 | ambagarh chauki\n",
      "Processing Record 23 of Set7 | villa rica\n",
      "Processing Record 24 of Set7 | chifeng\n",
      "Processing Record 25 of Set7 | mayumba\n",
      "Processing Record 26 of Set7 | los llanos de aridane\n",
      "Processing Record 27 of Set7 | bonfim\n",
      "Processing Record 28 of Set7 | sungaipenuh\n",
      "Processing Record 29 of Set7 | pinawa\n",
      "Processing Record 30 of Set7 | mazamet\n",
      "City not found. Skipping...\n",
      "Processing Record 31 of Set7 | ulcinj\n",
      "Processing Record 32 of Set7 | eyl\n",
      "Processing Record 33 of Set7 | saint-louis\n",
      "Processing Record 34 of Set7 | saint anthony\n",
      "Processing Record 35 of Set7 | sibut\n",
      "Processing Record 36 of Set7 | wattegama\n",
      "Processing Record 37 of Set7 | nemuro\n",
      "Processing Record 38 of Set7 | williston\n",
      "Processing Record 39 of Set7 | loiza\n",
      "Processing Record 40 of Set7 | broome\n",
      "Processing Record 41 of Set7 | kiruna\n",
      "Processing Record 42 of Set7 | rudnogorsk\n",
      "Processing Record 43 of Set7 | tornio\n",
      "Processing Record 44 of Set7 | san luis\n",
      "Processing Record 45 of Set7 | vila\n",
      "Processing Record 46 of Set7 | thinadhoo\n",
      "Processing Record 47 of Set7 | namatanai\n",
      "Processing Record 48 of Set7 | mawlaik\n",
      "Processing Record 49 of Set7 | saskylakh\n",
      "Processing Record 0 of Set8 | pauini\n",
      "City not found. Skipping...\n",
      "Processing Record 1 of Set8 | san vicente\n",
      "Processing Record 2 of Set8 | amursk\n",
      "Processing Record 3 of Set8 | tignere\n",
      "City not found. Skipping...\n",
      "Processing Record 4 of Set8 | shama\n",
      "Processing Record 5 of Set8 | shimoda\n",
      "Processing Record 6 of Set8 | grand-lahou\n",
      "Processing Record 7 of Set8 | hobyo\n",
      "Processing Record 8 of Set8 | urumqi\n",
      "Processing Record 9 of Set8 | honiara\n",
      "Processing Record 10 of Set8 | maumere\n",
      "Processing Record 11 of Set8 | salalah\n",
      "Processing Record 12 of Set8 | havelock\n",
      "Processing Record 13 of Set8 | sorland\n",
      "Processing Record 14 of Set8 | canton\n",
      "Processing Record 15 of Set8 | provins\n",
      "City not found. Skipping...\n",
      "Processing Record 16 of Set8 | sisophon\n",
      "Processing Record 17 of Set8 | berbera\n",
      "Processing Record 18 of Set8 | mackay\n",
      "Processing Record 19 of Set8 | adolfo lopez mateos\n",
      "Processing Record 20 of Set8 | tabas\n",
      "Processing Record 21 of Set8 | leshukonskoye\n",
      "Processing Record 22 of Set8 | machali\n",
      "City not found. Skipping...\n",
      "City not found. Skipping...\n",
      "Processing Record 23 of Set8 | yagoua\n",
      "Processing Record 24 of Set8 | tessalit\n",
      "Processing Record 25 of Set8 | kutum\n",
      "Processing Record 26 of Set8 | orizona\n",
      "Processing Record 27 of Set8 | pangnirtung\n",
      "Processing Record 28 of Set8 | tonekabon\n",
      "Processing Record 29 of Set8 | chernyshevskiy\n"
     ]
    },
    {
     "name": "stdout",
     "output_type": "stream",
     "text": [
      "Processing Record 30 of Set8 | yakeshi\n",
      "Processing Record 31 of Set8 | tongliao\n",
      "Processing Record 32 of Set8 | xichang\n",
      "Processing Record 33 of Set8 | qidong\n",
      "Processing Record 34 of Set8 | kahului\n",
      "Processing Record 35 of Set8 | ahipara\n",
      "Processing Record 36 of Set8 | laramie\n",
      "Processing Record 37 of Set8 | padang\n",
      "Processing Record 38 of Set8 | jumla\n",
      "Processing Record 39 of Set8 | dattapur\n",
      "Processing Record 40 of Set8 | fort nelson\n",
      "Processing Record 41 of Set8 | rabo de peixe\n",
      "Processing Record 42 of Set8 | puri\n",
      "Processing Record 43 of Set8 | anamoros\n",
      "Processing Record 44 of Set8 | sept-iles\n",
      "Processing Record 45 of Set8 | dwarka\n",
      "Processing Record 46 of Set8 | robe\n",
      "Processing Record 47 of Set8 | nanortalik\n",
      "Processing Record 48 of Set8 | ruteng\n",
      "Processing Record 49 of Set8 | soavinandriana\n",
      "Processing Record 0 of Set9 | sidi ali\n",
      "Processing Record 1 of Set9 | alta floresta\n",
      "Processing Record 2 of Set9 | tilichiki\n",
      "Processing Record 3 of Set9 | inongo\n",
      "Processing Record 4 of Set9 | ratnagiri\n",
      "Processing Record 5 of Set9 | mana\n",
      "Processing Record 6 of Set9 | barcelos\n",
      "Processing Record 7 of Set9 | vestmanna\n",
      "Processing Record 8 of Set9 | lengshuijiang\n",
      "Processing Record 9 of Set9 | itai\n",
      "Processing Record 10 of Set9 | camocim\n",
      "Processing Record 11 of Set9 | mwinilunga\n",
      "Processing Record 12 of Set9 | banjarmasin\n",
      "Processing Record 13 of Set9 | ola\n",
      "Processing Record 14 of Set9 | wagar\n",
      "Processing Record 15 of Set9 | santa vitoria do palmar\n",
      "Processing Record 16 of Set9 | great yarmouth\n",
      "Processing Record 17 of Set9 | talnakh\n",
      "Processing Record 18 of Set9 | boa vista\n",
      "City not found. Skipping...\n",
      "Processing Record 19 of Set9 | piopio\n",
      "City not found. Skipping...\n",
      "Processing Record 20 of Set9 | sakakah\n",
      "Processing Record 21 of Set9 | la asuncion\n",
      "Processing Record 22 of Set9 | kantilo\n",
      "Processing Record 23 of Set9 | tiznit\n",
      "Processing Record 24 of Set9 | bonavista\n",
      "Processing Record 25 of Set9 | trinidad\n",
      "Processing Record 26 of Set9 | gamba\n",
      "Processing Record 27 of Set9 | beira\n",
      "Processing Record 28 of Set9 | anloga\n",
      "Processing Record 29 of Set9 | hovd\n",
      "Processing Record 30 of Set9 | maceio\n",
      "Processing Record 31 of Set9 | were ilu\n",
      "City not found. Skipping...\n",
      "Processing Record 32 of Set9 | umm lajj\n",
      "Processing Record 33 of Set9 | sabha\n",
      "Processing Record 34 of Set9 | gander\n",
      "Processing Record 35 of Set9 | bairiki\n",
      "Processing Record 36 of Set9 | honghu\n",
      "Processing Record 37 of Set9 | rancho palos verdes\n",
      "Processing Record 38 of Set9 | yaritagua\n",
      "Processing Record 39 of Set9 | pevek\n",
      "City not found. Skipping...\n",
      "Processing Record 40 of Set9 | chota\n",
      "Processing Record 41 of Set9 | glossa\n",
      "Processing Record 42 of Set9 | moranbah\n",
      "Processing Record 43 of Set9 | khelyulya\n",
      "Processing Record 44 of Set9 | minnedosa\n",
      "Processing Record 45 of Set9 | tarakan\n",
      "Processing Record 46 of Set9 | jilib\n",
      "Processing Record 47 of Set9 | katobu\n",
      "Processing Record 48 of Set9 | thomaston\n",
      "Processing Record 49 of Set9 | saiha\n",
      "Processing Record 0 of Set10 | bubaque\n",
      "Processing Record 1 of Set10 | nueva helvecia\n",
      "Processing Record 2 of Set10 | jalu\n",
      "Processing Record 3 of Set10 | davila\n",
      "Processing Record 4 of Set10 | genhe\n",
      "City not found. Skipping...\n",
      "Processing Record 5 of Set10 | seoul\n",
      "Processing Record 6 of Set10 | shingu\n",
      "Processing Record 7 of Set10 | beloha\n",
      "Processing Record 8 of Set10 | nouadhibou\n",
      "Processing Record 9 of Set10 | ararat\n",
      "Processing Record 10 of Set10 | itarema\n",
      "Processing Record 11 of Set10 | beyneu\n",
      "City not found. Skipping...\n",
      "Processing Record 12 of Set10 | mitsamiouli\n",
      "Processing Record 13 of Set10 | innisfail\n",
      "City not found. Skipping...\n",
      "Processing Record 14 of Set10 | moletai\n",
      "City not found. Skipping...\n",
      "Processing Record 15 of Set10 | pacific grove\n",
      "Processing Record 16 of Set10 | shaunavon\n",
      "Processing Record 17 of Set10 | diffa\n",
      "Processing Record 18 of Set10 | kurilsk\n",
      "Processing Record 19 of Set10 | oussouye\n",
      "Processing Record 20 of Set10 | prince rupert\n",
      "Processing Record 21 of Set10 | nyurba\n",
      "Processing Record 22 of Set10 | lorengau\n",
      "Processing Record 23 of Set10 | bria\n",
      "Processing Record 24 of Set10 | ahuimanu\n",
      "Processing Record 25 of Set10 | champerico\n",
      "Processing Record 26 of Set10 | alugan\n",
      "Processing Record 27 of Set10 | brae\n",
      "Processing Record 28 of Set10 | kristiinankaupunki\n",
      "Processing Record 29 of Set10 | yarada\n",
      "Processing Record 30 of Set10 | omboue\n",
      "Processing Record 31 of Set10 | kuybysheve\n",
      "Processing Record 32 of Set10 | otradnoye\n",
      "Processing Record 33 of Set10 | tavda\n",
      "Processing Record 34 of Set10 | santa rosa\n",
      "Processing Record 35 of Set10 | cayenne\n",
      "Processing Record 36 of Set10 | batemans bay\n",
      "Processing Record 37 of Set10 | broken hill\n",
      "Processing Record 38 of Set10 | gilgit\n",
      "Processing Record 39 of Set10 | vostok\n",
      "Processing Record 40 of Set10 | san jose\n",
      "Processing Record 41 of Set10 | kuliyapitiya\n",
      "Processing Record 42 of Set10 | san patricio\n",
      "Processing Record 43 of Set10 | bilma\n",
      "Processing Record 44 of Set10 | iqaluit\n",
      "Processing Record 45 of Set10 | port blair\n",
      "Processing Record 46 of Set10 | poum\n",
      "Processing Record 47 of Set10 | morehead\n",
      "Processing Record 48 of Set10 | aksu\n",
      "Processing Record 49 of Set10 | makueni\n",
      "Processing Record 0 of Set11 | saint-jacques\n",
      "Processing Record 1 of Set11 | berlevag\n",
      "Processing Record 2 of Set11 | manaure\n",
      "Processing Record 3 of Set11 | faya\n",
      "Processing Record 4 of Set11 | takab\n",
      "City not found. Skipping...\n",
      "Processing Record 5 of Set11 | taltal\n",
      "Processing Record 6 of Set11 | chibuto\n",
      "Processing Record 7 of Set11 | meulaboh\n",
      "Processing Record 8 of Set11 | victoria\n",
      "Processing Record 9 of Set11 | svetlaya\n",
      "Processing Record 10 of Set11 | nowa sol\n",
      "Processing Record 11 of Set11 | iguape\n",
      "Processing Record 12 of Set11 | lensk\n",
      "Processing Record 13 of Set11 | tongzi\n",
      "Processing Record 14 of Set11 | udachnyy\n",
      "Processing Record 15 of Set11 | priiskovyy\n",
      "Processing Record 16 of Set11 | rockingham\n",
      "City not found. Skipping...\n",
      "Processing Record 17 of Set11 | norman wells\n",
      "Processing Record 18 of Set11 | jenks\n",
      "Processing Record 19 of Set11 | byron bay\n",
      "Processing Record 20 of Set11 | baracoa\n",
      "Processing Record 21 of Set11 | zaragoza\n",
      "Processing Record 22 of Set11 | puerto narino\n",
      "Processing Record 23 of Set11 | la serena\n",
      "Processing Record 24 of Set11 | yanam\n",
      "City not found. Skipping...\n",
      "Processing Record 25 of Set11 | abu dhabi\n",
      "Processing Record 26 of Set11 | foxton\n",
      "Processing Record 27 of Set11 | vilhena\n",
      "Processing Record 28 of Set11 | mehamn\n",
      "Processing Record 29 of Set11 | kushiro\n",
      "Processing Record 30 of Set11 | scarborough\n",
      "Processing Record 31 of Set11 | rognan\n",
      "Processing Record 32 of Set11 | upata\n",
      "Processing Record 33 of Set11 | yerofey pavlovich\n",
      "Processing Record 34 of Set11 | akdepe\n",
      "Processing Record 35 of Set11 | sitia\n",
      "Processing Record 36 of Set11 | baruun-urt\n",
      "Processing Record 37 of Set11 | kortkeros\n",
      "Processing Record 38 of Set11 | dongsheng\n",
      "Processing Record 39 of Set11 | tinskoy\n",
      "Processing Record 40 of Set11 | dhidhdhoo\n",
      "Processing Record 41 of Set11 | lake city\n",
      "Processing Record 42 of Set11 | saint-francois\n",
      "Processing Record 43 of Set11 | melito di porto salvo\n",
      "City not found. Skipping...\n",
      "Processing Record 44 of Set11 | san rafael\n",
      "Processing Record 45 of Set11 | brigantine\n",
      "Processing Record 46 of Set11 | bani\n",
      "Processing Record 47 of Set11 | vieques\n"
     ]
    }
   ],
   "source": [
    "url = \"http://api.openweathermap.org/data/2.5/weather?\"\n",
    "# Build query URL\n",
    "number = 1\n",
    "set_1 = 1\n",
    "city_name = []\n",
    "lat = []\n",
    "lng = []\n",
    "temp = []\n",
    "humid = []\n",
    "cloud = []\n",
    "wind = []\n",
    "country = []\n",
    "dt = []\n",
    "for city in cities:\n",
    "    try:\n",
    "        query_url = url + \"appid=\" + weather_api_key + \"&q=\" + city +\"&units=imperial\"\n",
    "        weather_response = requests.get(query_url)\n",
    "        weather_json = weather_response.json()\n",
    "        city_name.append(weather_json['name'])\n",
    "        lat.append(weather_json['coord']['lat'])\n",
    "        lng.append(weather_json['coord']['lon'])\n",
    "        temp.append(weather_json['main']['temp_max'])\n",
    "        humid.append(weather_json['main']['humidity'])\n",
    "        wind.append(weather_json['wind']['speed'])        \n",
    "        cloud.append(weather_json['clouds']['all'])\n",
    "        country.append(weather_json['sys']['country'])\n",
    "        dt.append(weather_json['dt'])\n",
    "        print(f\"Processing Record {number} of Set{set_1} | {city}\")\n",
    "        number = number + 1\n",
    "    except (KeyError, IndexError):\n",
    "        print(\"City not found. Skipping...\")\n",
    "    \n",
    "    if (number == 51) & (set_1 == 1):\n",
    "        number = 0\n",
    "        set_1 = set_1+1\n",
    "    elif (number == 50) & (set_1 >1):\n",
    "        number = 0\n",
    "        set_1 = set_1+1\n",
    "\n",
    "        \n",
    "\n",
    "            \n",
    "    "
   ]
  },
  {
   "cell_type": "markdown",
   "metadata": {},
   "source": [
    "### Convert Raw Data to DataFrame\n",
    "* Export the city data into a .csv.\n",
    "* Display the DataFrame"
   ]
  },
  {
   "cell_type": "code",
   "execution_count": 4,
   "metadata": {},
   "outputs": [
    {
     "data": {
      "text/html": [
       "<div>\n",
       "<style scoped>\n",
       "    .dataframe tbody tr th:only-of-type {\n",
       "        vertical-align: middle;\n",
       "    }\n",
       "\n",
       "    .dataframe tbody tr th {\n",
       "        vertical-align: top;\n",
       "    }\n",
       "\n",
       "    .dataframe thead th {\n",
       "        text-align: right;\n",
       "    }\n",
       "</style>\n",
       "<table border=\"1\" class=\"dataframe\">\n",
       "  <thead>\n",
       "    <tr style=\"text-align: right;\">\n",
       "      <th></th>\n",
       "      <th>City</th>\n",
       "      <th>lat</th>\n",
       "      <th>lng</th>\n",
       "      <th>temp</th>\n",
       "      <th>humidity</th>\n",
       "      <th>cloudiness</th>\n",
       "      <th>wind</th>\n",
       "      <th>country</th>\n",
       "      <th>date</th>\n",
       "    </tr>\n",
       "  </thead>\n",
       "  <tbody>\n",
       "    <tr>\n",
       "      <th>0</th>\n",
       "      <td>Sitka</td>\n",
       "      <td>57.05</td>\n",
       "      <td>-135.33</td>\n",
       "      <td>50.00</td>\n",
       "      <td>93</td>\n",
       "      <td>90</td>\n",
       "      <td>5.82</td>\n",
       "      <td>US</td>\n",
       "      <td>1593166611</td>\n",
       "    </tr>\n",
       "    <tr>\n",
       "      <th>1</th>\n",
       "      <td>Nerchinskiy Zavod</td>\n",
       "      <td>51.31</td>\n",
       "      <td>119.61</td>\n",
       "      <td>71.49</td>\n",
       "      <td>44</td>\n",
       "      <td>69</td>\n",
       "      <td>5.59</td>\n",
       "      <td>RU</td>\n",
       "      <td>1593166611</td>\n",
       "    </tr>\n",
       "    <tr>\n",
       "      <th>2</th>\n",
       "      <td>Atuona</td>\n",
       "      <td>-9.80</td>\n",
       "      <td>-139.03</td>\n",
       "      <td>79.74</td>\n",
       "      <td>79</td>\n",
       "      <td>28</td>\n",
       "      <td>15.37</td>\n",
       "      <td>PF</td>\n",
       "      <td>1593166611</td>\n",
       "    </tr>\n",
       "    <tr>\n",
       "      <th>3</th>\n",
       "      <td>Laguna</td>\n",
       "      <td>38.42</td>\n",
       "      <td>-121.42</td>\n",
       "      <td>68.00</td>\n",
       "      <td>64</td>\n",
       "      <td>5</td>\n",
       "      <td>3.36</td>\n",
       "      <td>US</td>\n",
       "      <td>1593166611</td>\n",
       "    </tr>\n",
       "    <tr>\n",
       "      <th>4</th>\n",
       "      <td>Butler</td>\n",
       "      <td>39.45</td>\n",
       "      <td>-84.57</td>\n",
       "      <td>68.00</td>\n",
       "      <td>100</td>\n",
       "      <td>20</td>\n",
       "      <td>4.52</td>\n",
       "      <td>US</td>\n",
       "      <td>1593166611</td>\n",
       "    </tr>\n",
       "    <tr>\n",
       "      <th>...</th>\n",
       "      <td>...</td>\n",
       "      <td>...</td>\n",
       "      <td>...</td>\n",
       "      <td>...</td>\n",
       "      <td>...</td>\n",
       "      <td>...</td>\n",
       "      <td>...</td>\n",
       "      <td>...</td>\n",
       "      <td>...</td>\n",
       "    </tr>\n",
       "    <tr>\n",
       "      <th>543</th>\n",
       "      <td>Melito di Porto Salvo</td>\n",
       "      <td>37.92</td>\n",
       "      <td>15.77</td>\n",
       "      <td>84.00</td>\n",
       "      <td>54</td>\n",
       "      <td>5</td>\n",
       "      <td>5.82</td>\n",
       "      <td>IT</td>\n",
       "      <td>1593166653</td>\n",
       "    </tr>\n",
       "    <tr>\n",
       "      <th>544</th>\n",
       "      <td>San Rafael</td>\n",
       "      <td>-34.62</td>\n",
       "      <td>-68.33</td>\n",
       "      <td>40.44</td>\n",
       "      <td>61</td>\n",
       "      <td>95</td>\n",
       "      <td>4.50</td>\n",
       "      <td>AR</td>\n",
       "      <td>1593166653</td>\n",
       "    </tr>\n",
       "    <tr>\n",
       "      <th>545</th>\n",
       "      <td>Brigantine</td>\n",
       "      <td>39.41</td>\n",
       "      <td>-74.36</td>\n",
       "      <td>70.00</td>\n",
       "      <td>88</td>\n",
       "      <td>40</td>\n",
       "      <td>6.20</td>\n",
       "      <td>US</td>\n",
       "      <td>1593166653</td>\n",
       "    </tr>\n",
       "    <tr>\n",
       "      <th>546</th>\n",
       "      <td>Baní</td>\n",
       "      <td>18.28</td>\n",
       "      <td>-70.33</td>\n",
       "      <td>79.00</td>\n",
       "      <td>88</td>\n",
       "      <td>44</td>\n",
       "      <td>3.00</td>\n",
       "      <td>DO</td>\n",
       "      <td>1593166653</td>\n",
       "    </tr>\n",
       "    <tr>\n",
       "      <th>547</th>\n",
       "      <td>Vieques</td>\n",
       "      <td>18.43</td>\n",
       "      <td>-65.83</td>\n",
       "      <td>80.60</td>\n",
       "      <td>94</td>\n",
       "      <td>75</td>\n",
       "      <td>6.93</td>\n",
       "      <td>PR</td>\n",
       "      <td>1593166654</td>\n",
       "    </tr>\n",
       "  </tbody>\n",
       "</table>\n",
       "<p>548 rows × 9 columns</p>\n",
       "</div>"
      ],
      "text/plain": [
       "                      City    lat     lng   temp  humidity  cloudiness   wind  \\\n",
       "0                    Sitka  57.05 -135.33  50.00        93          90   5.82   \n",
       "1        Nerchinskiy Zavod  51.31  119.61  71.49        44          69   5.59   \n",
       "2                   Atuona  -9.80 -139.03  79.74        79          28  15.37   \n",
       "3                   Laguna  38.42 -121.42  68.00        64           5   3.36   \n",
       "4                   Butler  39.45  -84.57  68.00       100          20   4.52   \n",
       "..                     ...    ...     ...    ...       ...         ...    ...   \n",
       "543  Melito di Porto Salvo  37.92   15.77  84.00        54           5   5.82   \n",
       "544             San Rafael -34.62  -68.33  40.44        61          95   4.50   \n",
       "545             Brigantine  39.41  -74.36  70.00        88          40   6.20   \n",
       "546                   Baní  18.28  -70.33  79.00        88          44   3.00   \n",
       "547                Vieques  18.43  -65.83  80.60        94          75   6.93   \n",
       "\n",
       "    country        date  \n",
       "0        US  1593166611  \n",
       "1        RU  1593166611  \n",
       "2        PF  1593166611  \n",
       "3        US  1593166611  \n",
       "4        US  1593166611  \n",
       "..      ...         ...  \n",
       "543      IT  1593166653  \n",
       "544      AR  1593166653  \n",
       "545      US  1593166653  \n",
       "546      DO  1593166653  \n",
       "547      PR  1593166654  \n",
       "\n",
       "[548 rows x 9 columns]"
      ]
     },
     "execution_count": 4,
     "metadata": {},
     "output_type": "execute_result"
    }
   ],
   "source": [
    "city_data_df = pd.DataFrame({\"City\":city_name,\n",
    "                            \"lat\": lat,\n",
    "                            \"lng\": lng,\n",
    "                            \"temp\": temp,\n",
    "                            \"humidity\": humid,\n",
    "                            \"cloudiness\": cloud,\n",
    "                             \"wind\": wind,\n",
    "                            \"country\": country,\n",
    "                             \"date\":dt\n",
    "                            })\n",
    "city_data_df\n"
   ]
  },
  {
   "cell_type": "code",
   "execution_count": 9,
   "metadata": {},
   "outputs": [],
   "source": [
    "city_data_df.count()\n",
    "pd.DataFrame.to_csv(city_data_df, 'city_data.csv', index = False, header = True)"
   ]
  },
  {
   "cell_type": "code",
   "execution_count": 10,
   "metadata": {},
   "outputs": [
    {
     "data": {
      "text/html": [
       "<div>\n",
       "<style scoped>\n",
       "    .dataframe tbody tr th:only-of-type {\n",
       "        vertical-align: middle;\n",
       "    }\n",
       "\n",
       "    .dataframe tbody tr th {\n",
       "        vertical-align: top;\n",
       "    }\n",
       "\n",
       "    .dataframe thead th {\n",
       "        text-align: right;\n",
       "    }\n",
       "</style>\n",
       "<table border=\"1\" class=\"dataframe\">\n",
       "  <thead>\n",
       "    <tr style=\"text-align: right;\">\n",
       "      <th></th>\n",
       "      <th>City</th>\n",
       "      <th>lat</th>\n",
       "      <th>lng</th>\n",
       "      <th>temp</th>\n",
       "      <th>humidity</th>\n",
       "      <th>cloudiness</th>\n",
       "      <th>wind</th>\n",
       "      <th>country</th>\n",
       "      <th>date</th>\n",
       "    </tr>\n",
       "  </thead>\n",
       "  <tbody>\n",
       "    <tr>\n",
       "      <th>0</th>\n",
       "      <td>Sitka</td>\n",
       "      <td>57.05</td>\n",
       "      <td>-135.33</td>\n",
       "      <td>50.00</td>\n",
       "      <td>93</td>\n",
       "      <td>90</td>\n",
       "      <td>5.82</td>\n",
       "      <td>US</td>\n",
       "      <td>1593166611</td>\n",
       "    </tr>\n",
       "    <tr>\n",
       "      <th>1</th>\n",
       "      <td>Nerchinskiy Zavod</td>\n",
       "      <td>51.31</td>\n",
       "      <td>119.61</td>\n",
       "      <td>71.49</td>\n",
       "      <td>44</td>\n",
       "      <td>69</td>\n",
       "      <td>5.59</td>\n",
       "      <td>RU</td>\n",
       "      <td>1593166611</td>\n",
       "    </tr>\n",
       "    <tr>\n",
       "      <th>2</th>\n",
       "      <td>Atuona</td>\n",
       "      <td>-9.80</td>\n",
       "      <td>-139.03</td>\n",
       "      <td>79.74</td>\n",
       "      <td>79</td>\n",
       "      <td>28</td>\n",
       "      <td>15.37</td>\n",
       "      <td>PF</td>\n",
       "      <td>1593166611</td>\n",
       "    </tr>\n",
       "    <tr>\n",
       "      <th>3</th>\n",
       "      <td>Laguna</td>\n",
       "      <td>38.42</td>\n",
       "      <td>-121.42</td>\n",
       "      <td>68.00</td>\n",
       "      <td>64</td>\n",
       "      <td>5</td>\n",
       "      <td>3.36</td>\n",
       "      <td>US</td>\n",
       "      <td>1593166611</td>\n",
       "    </tr>\n",
       "    <tr>\n",
       "      <th>4</th>\n",
       "      <td>Butler</td>\n",
       "      <td>39.45</td>\n",
       "      <td>-84.57</td>\n",
       "      <td>68.00</td>\n",
       "      <td>100</td>\n",
       "      <td>20</td>\n",
       "      <td>4.52</td>\n",
       "      <td>US</td>\n",
       "      <td>1593166611</td>\n",
       "    </tr>\n",
       "    <tr>\n",
       "      <th>...</th>\n",
       "      <td>...</td>\n",
       "      <td>...</td>\n",
       "      <td>...</td>\n",
       "      <td>...</td>\n",
       "      <td>...</td>\n",
       "      <td>...</td>\n",
       "      <td>...</td>\n",
       "      <td>...</td>\n",
       "      <td>...</td>\n",
       "    </tr>\n",
       "    <tr>\n",
       "      <th>543</th>\n",
       "      <td>Melito di Porto Salvo</td>\n",
       "      <td>37.92</td>\n",
       "      <td>15.77</td>\n",
       "      <td>84.00</td>\n",
       "      <td>54</td>\n",
       "      <td>5</td>\n",
       "      <td>5.82</td>\n",
       "      <td>IT</td>\n",
       "      <td>1593166653</td>\n",
       "    </tr>\n",
       "    <tr>\n",
       "      <th>544</th>\n",
       "      <td>San Rafael</td>\n",
       "      <td>-34.62</td>\n",
       "      <td>-68.33</td>\n",
       "      <td>40.44</td>\n",
       "      <td>61</td>\n",
       "      <td>95</td>\n",
       "      <td>4.50</td>\n",
       "      <td>AR</td>\n",
       "      <td>1593166653</td>\n",
       "    </tr>\n",
       "    <tr>\n",
       "      <th>545</th>\n",
       "      <td>Brigantine</td>\n",
       "      <td>39.41</td>\n",
       "      <td>-74.36</td>\n",
       "      <td>70.00</td>\n",
       "      <td>88</td>\n",
       "      <td>40</td>\n",
       "      <td>6.20</td>\n",
       "      <td>US</td>\n",
       "      <td>1593166653</td>\n",
       "    </tr>\n",
       "    <tr>\n",
       "      <th>546</th>\n",
       "      <td>Baní</td>\n",
       "      <td>18.28</td>\n",
       "      <td>-70.33</td>\n",
       "      <td>79.00</td>\n",
       "      <td>88</td>\n",
       "      <td>44</td>\n",
       "      <td>3.00</td>\n",
       "      <td>DO</td>\n",
       "      <td>1593166653</td>\n",
       "    </tr>\n",
       "    <tr>\n",
       "      <th>547</th>\n",
       "      <td>Vieques</td>\n",
       "      <td>18.43</td>\n",
       "      <td>-65.83</td>\n",
       "      <td>80.60</td>\n",
       "      <td>94</td>\n",
       "      <td>75</td>\n",
       "      <td>6.93</td>\n",
       "      <td>PR</td>\n",
       "      <td>1593166654</td>\n",
       "    </tr>\n",
       "  </tbody>\n",
       "</table>\n",
       "<p>548 rows × 9 columns</p>\n",
       "</div>"
      ],
      "text/plain": [
       "                      City    lat     lng   temp  humidity  cloudiness   wind  \\\n",
       "0                    Sitka  57.05 -135.33  50.00        93          90   5.82   \n",
       "1        Nerchinskiy Zavod  51.31  119.61  71.49        44          69   5.59   \n",
       "2                   Atuona  -9.80 -139.03  79.74        79          28  15.37   \n",
       "3                   Laguna  38.42 -121.42  68.00        64           5   3.36   \n",
       "4                   Butler  39.45  -84.57  68.00       100          20   4.52   \n",
       "..                     ...    ...     ...    ...       ...         ...    ...   \n",
       "543  Melito di Porto Salvo  37.92   15.77  84.00        54           5   5.82   \n",
       "544             San Rafael -34.62  -68.33  40.44        61          95   4.50   \n",
       "545             Brigantine  39.41  -74.36  70.00        88          40   6.20   \n",
       "546                   Baní  18.28  -70.33  79.00        88          44   3.00   \n",
       "547                Vieques  18.43  -65.83  80.60        94          75   6.93   \n",
       "\n",
       "    country        date  \n",
       "0        US  1593166611  \n",
       "1        RU  1593166611  \n",
       "2        PF  1593166611  \n",
       "3        US  1593166611  \n",
       "4        US  1593166611  \n",
       "..      ...         ...  \n",
       "543      IT  1593166653  \n",
       "544      AR  1593166653  \n",
       "545      US  1593166653  \n",
       "546      DO  1593166653  \n",
       "547      PR  1593166654  \n",
       "\n",
       "[548 rows x 9 columns]"
      ]
     },
     "execution_count": 10,
     "metadata": {},
     "output_type": "execute_result"
    }
   ],
   "source": [
    "city_data_df"
   ]
  },
  {
   "cell_type": "markdown",
   "metadata": {},
   "source": [
    "## Inspect the data and remove the cities where the humidity > 100%.\n",
    "----\n",
    "Skip this step if there are no cities that have humidity > 100%. "
   ]
  },
  {
   "cell_type": "code",
   "execution_count": 11,
   "metadata": {},
   "outputs": [
    {
     "data": {
      "text/html": [
       "<div>\n",
       "<style scoped>\n",
       "    .dataframe tbody tr th:only-of-type {\n",
       "        vertical-align: middle;\n",
       "    }\n",
       "\n",
       "    .dataframe tbody tr th {\n",
       "        vertical-align: top;\n",
       "    }\n",
       "\n",
       "    .dataframe thead th {\n",
       "        text-align: right;\n",
       "    }\n",
       "</style>\n",
       "<table border=\"1\" class=\"dataframe\">\n",
       "  <thead>\n",
       "    <tr style=\"text-align: right;\">\n",
       "      <th></th>\n",
       "      <th>City</th>\n",
       "      <th>humidity</th>\n",
       "    </tr>\n",
       "  </thead>\n",
       "  <tbody>\n",
       "  </tbody>\n",
       "</table>\n",
       "</div>"
      ],
      "text/plain": [
       "Empty DataFrame\n",
       "Columns: [City, humidity]\n",
       "Index: []"
      ]
     },
     "execution_count": 11,
     "metadata": {},
     "output_type": "execute_result"
    }
   ],
   "source": [
    "#  Get the indices of cities that have humidity over 100%.\n",
    "humidity_df = city_data_df[['City','humidity']]\n",
    "humidity_df.set_index('City')\n",
    "humidity_df = humidity_df.loc[(humidity_df[\"humidity\"] > 100)]\n",
    "humidity_df\n"
   ]
  },
  {
   "cell_type": "code",
   "execution_count": 12,
   "metadata": {},
   "outputs": [],
   "source": [
    "# Make a new DataFrame equal to the city data to drop all humidity outliers by index.\n",
    "# Passing \"inplace=False\" will make a copy of the city_data DataFrame, which we call \"clean_city_data\".\n",
    "\n",
    "indexnames = city_data_df[city_data_df['humidity'] > 100].index\n",
    "clean_city_data = city_data_df.drop(indexnames, inplace=False)\n"
   ]
  },
  {
   "cell_type": "code",
   "execution_count": 14,
   "metadata": {},
   "outputs": [],
   "source": [
    "# Extract relevant fields from the data frame\n",
    "clean_city_data\n",
    "# Export the City_Data into a csv\n",
    "pd.DataFrame.to_csv(clean_city_data, 'clean_city_data.csv', index = False, header = True)"
   ]
  },
  {
   "cell_type": "markdown",
   "metadata": {},
   "source": [
    "## Plotting the Data\n",
    "* Use proper labeling of the plots using plot titles (including date of analysis) and axes labels.\n",
    "* Save the plotted figures as .pngs."
   ]
  },
  {
   "cell_type": "markdown",
   "metadata": {},
   "source": [
    "## Latitude vs. Temperature Plot"
   ]
  },
  {
   "cell_type": "code",
   "execution_count": 15,
   "metadata": {
    "scrolled": true
   },
   "outputs": [
    {
     "data": {
      "text/plain": [
       "Text(0.5, 0, 'latitude')"
      ]
     },
     "execution_count": 15,
     "metadata": {},
     "output_type": "execute_result"
    },
    {
     "data": {
      "image/png": "[encoded data removed]",
      "text/plain": [
       "<Figure size 432x288 with 1 Axes>"
      ]
     },
     "metadata": {
      "needs_background": "light"
     },
     "output_type": "display_data"
    }
   ],
   "source": [
    "latvtemp = clean_city_data[[\"lat\",\"temp\"]]\n",
    "lat =latvtemp[\"lat\"]\n",
    "temp = latvtemp[\"temp\"]\n",
    "plt.scatter(x=lat, y=temp, marker = \"o\", facecolor=\"green\", edgecolors = \"green\")\n",
    "plt.title(\"Latitude v Temperature\")\n",
    "plt.ylabel(\"temperature\")\n",
    "plt.xlabel(\"latitude\")\n",
    "#When the latitude gets closer to 0 it becomes hotter as it's closer to the equator."
   ]
  },
  {
   "cell_type": "markdown",
   "metadata": {},
   "source": [
    "## Latitude vs. Humidity Plot"
   ]
  },
  {
   "cell_type": "code",
   "execution_count": 16,
   "metadata": {},
   "outputs": [
    {
     "data": {
      "text/plain": [
       "Text(0.5, 0, 'Latitude')"
      ]
     },
     "execution_count": 16,
     "metadata": {},
     "output_type": "execute_result"
    },
    {
     "data": {
      "image/png": "[encoded data removed]",
      "text/plain": [
       "<Figure size 432x288 with 1 Axes>"
      ]
     },
     "metadata": {
      "needs_background": "light"
     },
     "output_type": "display_data"
    }
   ],
   "source": [
    "lathum = clean_city_data[[\"lat\",\"humidity\"]]\n",
    "lat =lathum[\"lat\"]\n",
    "humid = lathum[\"humidity\"]\n",
    "plt.scatter(x=lat, y=humid, marker = \"o\", facecolor=\"green\", edgecolors = \"green\")\n",
    "plt.title(\"Latitude v Humidity\")\n",
    "plt.ylabel(\"Humidity\")\n",
    "plt.xlabel(\"Latitude\")\n",
    "#Majority of ithe cities have higher humidity"
   ]
  },
  {
   "cell_type": "markdown",
   "metadata": {},
   "source": [
    "## Latitude vs. Cloudiness Plot"
   ]
  },
  {
   "cell_type": "code",
   "execution_count": 17,
   "metadata": {},
   "outputs": [
    {
     "data": {
      "text/plain": [
       "Text(0.5, 0, 'Latitude')"
      ]
     },
     "execution_count": 17,
     "metadata": {},
     "output_type": "execute_result"
    },
    {
     "data": {
      "image/png": "[encoded data removed]",
      "text/plain": [
       "<Figure size 432x288 with 1 Axes>"
      ]
     },
     "metadata": {
      "needs_background": "light"
     },
     "output_type": "display_data"
    }
   ],
   "source": [
    "latcloud = clean_city_data[[\"lat\",\"cloudiness\"]]\n",
    "lat =latcloud[\"lat\"]\n",
    "cloudiness = latcloud[\"cloudiness\"]\n",
    "plt.scatter(x=lat, y=cloudiness, marker = \"o\", facecolor=\"green\", edgecolors = \"green\")\n",
    "plt.title(\"Latitude v Cloudiness\")\n",
    "plt.ylabel(\"Cloudiness\")\n",
    "plt.xlabel(\"Latitude\")\n",
    "#Thehre really isn't any correlation between latitude and cloudiness. \n",
    "#Potentially most of the data points are on either ends where it's 0 or it's closer to 100. Very few in between"
   ]
  },
  {
   "cell_type": "markdown",
   "metadata": {},
   "source": [
    "## Latitude vs. Wind Speed Plot"
   ]
  },
  {
   "cell_type": "code",
   "execution_count": 18,
   "metadata": {},
   "outputs": [
    {
     "data": {
      "text/plain": [
       "Text(0.5, 0, 'Latitude')"
      ]
     },
     "execution_count": 18,
     "metadata": {},
     "output_type": "execute_result"
    },
    {
     "data": {
      "image/png": "[encoded data removed]",
      "text/plain": [
       "<Figure size 432x288 with 1 Axes>"
      ]
     },
     "metadata": {
      "needs_background": "light"
     },
     "output_type": "display_data"
    }
   ],
   "source": [
    "latwind = clean_city_data[[\"lat\",\"wind\"]]\n",
    "lat =latwind[\"lat\"]\n",
    "wind = latwind[\"wind\"]\n",
    "plt.scatter(x=lat, y=wind, marker = \"o\", facecolor=\"green\", edgecolors = \"green\")\n",
    "plt.title(\"Latitude v Wind Speed\")\n",
    "plt.ylabel(\"Wind Speed\")\n",
    "plt.xlabel(\"Latitude\")\n",
    "#Most of the cities regardless of latitude have low wind speed."
   ]
  },
  {
   "cell_type": "markdown",
   "metadata": {},
   "source": [
    "## Linear Regression"
   ]
  },
  {
   "cell_type": "code",
   "execution_count": null,
   "metadata": {},
   "outputs": [],
   "source": [
    "# OPTIONAL: Create a function to create Linear Regression plots"
   ]
  },
  {
   "cell_type": "code",
   "execution_count": 11,
   "metadata": {},
   "outputs": [],
   "source": [
    "clean_city_data = pd.read_csv(\"clean_city_data.csv\")"
   ]
  },
  {
   "cell_type": "code",
   "execution_count": 16,
   "metadata": {},
   "outputs": [],
   "source": [
    "# Create Northern and Southern Hemisphere DataFrames\n",
    "northern_hemisphere = clean_city_data.loc[clean_city_data[\"lat\"]>=0,:]\n",
    "southern_hemisphere = clean_city_data.loc[clean_city_data[\"lat\"]<0,:]"
   ]
  },
  {
   "cell_type": "markdown",
   "metadata": {},
   "source": [
    "####  Northern Hemisphere - Max Temp vs. Latitude Linear Regression"
   ]
  },
  {
   "cell_type": "code",
   "execution_count": 30,
   "metadata": {},
   "outputs": [
    {
     "name": "stdout",
     "output_type": "stream",
     "text": [
      "y = -0.5x + 91.61\n",
      "-0.64\n",
      "0.41\n"
     ]
    },
    {
     "data": {
      "image/png": "[encoded data removed]",
      "text/plain": [
       "<Figure size 432x288 with 1 Axes>"
      ]
     },
     "metadata": {
      "needs_background": "light"
     },
     "output_type": "display_data"
    }
   ],
   "source": [
    "import scipy.stats as st\n",
    "temp = northern_hemisphere[\"temp\"]\n",
    "lat = northern_hemisphere[\"lat\"]\n",
    "plt.scatter(x=lat, y=temp, marker = \"o\", facecolor=\"green\", edgecolors = \"green\")\n",
    "plt.title(\"Northern Hemisphere - Max Temp vs. Latitude\")\n",
    "plt.xlabel(\"Latitude\")\n",
    "plt.ylabel(\"Temp\")\n",
    "#get the slope, intercept, rvalue, pvalue, and standard error\n",
    "(slope, intercept, rvalue, pvalue, stderr) = linregress(lat, temp)\n",
    "regress_values = lat * slope + intercept\n",
    "line_eq = \"y = \" + str(round(slope,2)) + \"x + \" + str(round(intercept,2))\n",
    "plt.plot(lat,regress_values,\"r-\")\n",
    "plt.annotate(line_eq,(6,10),fontsize=15,color=\"red\")\n",
    "#get the correlation\n",
    "correlation = round(st.pearsonr(lat,temp)[0],2)\n",
    "r_sq= round(correlation**2,2)\n",
    "print(f\"{line_eq}\")\n",
    "print(f\"{correlation}\")\n",
    "print(f\"{r_sq}\")\n",
    "#Higher the latitude, the lower the temperature"
   ]
  },
  {
   "cell_type": "markdown",
   "metadata": {},
   "source": [
    "####  Southern Hemisphere - Max Temp vs. Latitude Linear Regression"
   ]
  },
  {
   "cell_type": "code",
   "execution_count": 29,
   "metadata": {},
   "outputs": [
    {
     "name": "stdout",
     "output_type": "stream",
     "text": [
      "y = 0.84x + 82.18\n",
      "0.8\n",
      "0.64\n"
     ]
    },
    {
     "data": {
      "image/png": "[encoded data removed]",
      "text/plain": [
       "<Figure size 432x288 with 1 Axes>"
      ]
     },
     "metadata": {
      "needs_background": "light"
     },
     "output_type": "display_data"
    }
   ],
   "source": [
    "temp = southern_hemisphere[\"temp\"]\n",
    "lat = southern_hemisphere[\"lat\"]\n",
    "plt.scatter(x=lat, y=temp, marker = \"o\", facecolor=\"green\", edgecolors = \"green\")\n",
    "plt.title(\"Southern Hemisphere - Max Temp vs. Latitude\")\n",
    "plt.ylabel(\"Temp\")\n",
    "plt.xlabel(\"Latitude\")\n",
    "#get the slope, intercept, rvalue, pvalue, and standard error\n",
    "(slope, intercept, rvalue, pvalue, stderr) = linregress(lat, temp)\n",
    "regress_values = lat * slope + intercept\n",
    "line_eq = \"y = \" + str(round(slope,2)) + \"x + \" + str(round(intercept,2))\n",
    "plt.plot(lat,regress_values,\"r-\")\n",
    "plt.annotate(line_eq,(6,10),fontsize=15,color=\"red\")\n",
    "#get the correlation\n",
    "correlation = round(st.pearsonr(lat,temp)[0],2)\n",
    "r_sq= round(correlation**2,2)\n",
    "print(f\"{line_eq}\")\n",
    "print(f\"{correlation}\")\n",
    "print(f\"{r_sq}\")\n",
    "#The higher the latitude, the higher the temperature it gets closer to the equator"
   ]
  },
  {
   "cell_type": "markdown",
   "metadata": {},
   "source": [
    "####  Northern Hemisphere - Humidity (%) vs. Latitude Linear Regression"
   ]
  },
  {
   "cell_type": "code",
   "execution_count": 28,
   "metadata": {},
   "outputs": [
    {
     "name": "stdout",
     "output_type": "stream",
     "text": [
      "y = -0.01x + 67.4\n",
      "-0.01\n",
      "0.0\n"
     ]
    },
    {
     "data": {
      "image/png": "[encoded data removed]",
      "text/plain": [
       "<Figure size 432x288 with 1 Axes>"
      ]
     },
     "metadata": {
      "needs_background": "light"
     },
     "output_type": "display_data"
    }
   ],
   "source": [
    "humidity = northern_hemisphere[\"humidity\"]\n",
    "lat = northern_hemisphere[\"lat\"]\n",
    "plt.scatter(x=lat, y=humidity, marker = \"o\", facecolor=\"green\", edgecolors = \"green\")\n",
    "plt.title(\"Northern Hemisphere - Humidity (%) vs. Latitude\")\n",
    "plt.ylabel(\"Humidity (%)\")\n",
    "plt.xlabel(\"Latitude\")\n",
    "#get the slope, intercept, rvalue, pvalue, and standard error\n",
    "(slope, intercept, rvalue, pvalue, stderr) = linregress(lat, humidity)\n",
    "regress_values = lat * slope + intercept\n",
    "line_eq = \"y = \" + str(round(slope,2)) + \"x + \" + str(round(intercept,2))\n",
    "plt.plot(lat,regress_values,\"r-\")\n",
    "plt.annotate(line_eq,(6,10),fontsize=15,color=\"red\")\n",
    "#get the correlation\n",
    "correlation = round(st.pearsonr(lat, humidity)[0],2)\n",
    "r_sq= round(correlation**2,2)\n",
    "print(f\"{line_eq}\")\n",
    "print(f\"{correlation}\")\n",
    "print(f\"{r_sq}\")\n",
    "#There's hardly any correlation between humidity and latitude based on the r^2 value for northern hemisphere"
   ]
  },
  {
   "cell_type": "markdown",
   "metadata": {},
   "source": [
    "####  Southern Hemisphere - Humidity (%) vs. Latitude Linear Regression"
   ]
  },
  {
   "cell_type": "code",
   "execution_count": 27,
   "metadata": {},
   "outputs": [
    {
     "name": "stdout",
     "output_type": "stream",
     "text": [
      "y = 0.09x + 77.48\n",
      "0.07\n",
      "0.0\n"
     ]
    },
    {
     "data": {
      "image/png": "[encoded data removed]",
      "text/plain": [
       "<Figure size 432x288 with 1 Axes>"
      ]
     },
     "metadata": {
      "needs_background": "light"
     },
     "output_type": "display_data"
    }
   ],
   "source": [
    "humidity = southern_hemisphere[\"humidity\"]\n",
    "lat = southern_hemisphere[\"lat\"]\n",
    "plt.scatter(x=lat, y=humidity, marker = \"o\", facecolor=\"green\", edgecolors = \"green\")\n",
    "plt.title(\"Southern Hemisphere - Humidity (%) vs. Latitude\")\n",
    "plt.ylabel(\"Humidity (%)\")\n",
    "plt.xlabel(\"Latitude\")\n",
    "#get the slope, intercept, rvalue, pvalue, and standard error\n",
    "(slope, intercept, rvalue, pvalue, stderr) = linregress(lat, humidity)\n",
    "regress_values = lat * slope + intercept\n",
    "line_eq = \"y = \" + str(round(slope,2)) + \"x + \" + str(round(intercept,2))\n",
    "plt.plot(lat,regress_values,\"r-\")\n",
    "plt.annotate(line_eq,(6,10),fontsize=15,color=\"red\")\n",
    "#get the correlation\n",
    "correlation = round(st.pearsonr(lat, humidity)[0],2)\n",
    "r_sq= round(correlation**2,2)\n",
    "print(f\"{line_eq}\")\n",
    "print(f\"{correlation}\")\n",
    "print(f\"{r_sq}\")\n",
    "#There's hardly any correlation between humidity and latitude based on the r^2 value for southern hemisphere"
   ]
  },
  {
   "cell_type": "markdown",
   "metadata": {},
   "source": [
    "####  Northern Hemisphere - Cloudiness (%) vs. Latitude Linear Regression"
   ]
  },
  {
   "cell_type": "code",
   "execution_count": 26,
   "metadata": {},
   "outputs": [
    {
     "name": "stdout",
     "output_type": "stream",
     "text": [
      "y = -0.02x + 57.68\n",
      "-0.01\n",
      "0.0\n"
     ]
    },
    {
     "data": {
      "image/png": "[encoded data removed]",
      "text/plain": [
       "<Figure size 432x288 with 1 Axes>"
      ]
     },
     "metadata": {
      "needs_background": "light"
     },
     "output_type": "display_data"
    }
   ],
   "source": [
    "cloudiness = northern_hemisphere[\"cloudiness\"]\n",
    "lat = northern_hemisphere[\"lat\"]\n",
    "plt.scatter(x=lat, y=cloudiness, marker = \"o\", facecolor=\"green\", edgecolors = \"green\")\n",
    "plt.title(\"Northern Hemisphere - Cloudiness (%) vs. Latitude\")\n",
    "plt.ylabel(\"Cloudiness (%)\")\n",
    "plt.xlabel(\"Latitude\")\n",
    "#get the slope, intercept, rvalue, pvalue, and standard error\n",
    "(slope, intercept, rvalue, pvalue, stderr) = linregress(lat, cloudiness)\n",
    "regress_values = lat * slope + intercept\n",
    "line_eq = \"y = \" + str(round(slope,2)) + \"x + \" + str(round(intercept,2))\n",
    "plt.plot(lat,regress_values,\"r-\")\n",
    "plt.annotate(line_eq,(6,10),fontsize=15,color=\"red\")\n",
    "#get the correlation\n",
    "correlation = round(st.pearsonr(lat, cloudiness)[0],2)\n",
    "r_sq= round(correlation**2,2)\n",
    "print(f\"{line_eq}\")\n",
    "print(f\"{correlation}\")\n",
    "print(f\"{r_sq}\")\n",
    "#There's hardly any correlation between latitude and cloudiness based on the r^2 value for northern hemisphere"
   ]
  },
  {
   "cell_type": "markdown",
   "metadata": {},
   "source": [
    "####  Southern Hemisphere - Cloudiness (%) vs. Latitude Linear Regression"
   ]
  },
  {
   "cell_type": "code",
   "execution_count": 23,
   "metadata": {},
   "outputs": [
    {
     "name": "stdout",
     "output_type": "stream",
     "text": [
      "y = 0.23x + 50.13\n",
      "0.08\n",
      "0.01\n"
     ]
    },
    {
     "data": {
      "image/png": "[encoded data removed]",
      "text/plain": [
       "<Figure size 432x288 with 1 Axes>"
      ]
     },
     "metadata": {
      "needs_background": "light"
     },
     "output_type": "display_data"
    }
   ],
   "source": [
    "cloudiness = southern_hemisphere[\"cloudiness\"]\n",
    "lat = southern_hemisphere[\"lat\"]\n",
    "plt.scatter(x=lat, y=cloudiness, marker = \"o\", facecolor=\"green\", edgecolors = \"green\")\n",
    "plt.title(\"Southern Hemisphere - Cloudiness (%) vs. Latitude\")\n",
    "plt.ylabel(\"Cloudiness (%)\")\n",
    "plt.xlabel(\"Latitude\")\n",
    "#get the slope, intercept, rvalue, pvalue, and standard error\n",
    "(slope, intercept, rvalue, pvalue, stderr) = linregress(lat, cloudiness)\n",
    "regress_values = lat * slope + intercept\n",
    "line_eq = \"y = \" + str(round(slope,2)) + \"x + \" + str(round(intercept,2))\n",
    "plt.plot(lat,regress_values,\"r-\")\n",
    "plt.annotate(line_eq,(6,10),fontsize=15,color=\"red\")\n",
    "#get the correlation\n",
    "correlation = round(st.pearsonr(lat, cloudiness)[0],2)\n",
    "r_sq= round(correlation**2,2)\n",
    "print(f\"{line_eq}\")\n",
    "print(f\"{correlation}\")\n",
    "print(f\"{r_sq}\")\n",
    "#There's hardly any correlation between humidity and latitude based on the r^2 value for southern hemisphere"
   ]
  },
  {
   "cell_type": "markdown",
   "metadata": {},
   "source": [
    "####  Northern Hemisphere - Wind Speed (mph) vs. Latitude Linear Regression"
   ]
  },
  {
   "cell_type": "code",
   "execution_count": 24,
   "metadata": {},
   "outputs": [
    {
     "name": "stdout",
     "output_type": "stream",
     "text": [
      "y = 0.01x + 8.2\n",
      "0.03\n",
      "0.0\n"
     ]
    },
    {
     "data": {
      "image/png": "[encoded data removed]",
      "text/plain": [
       "<Figure size 432x288 with 1 Axes>"
      ]
     },
     "metadata": {
      "needs_background": "light"
     },
     "output_type": "display_data"
    }
   ],
   "source": [
    "wind = northern_hemisphere[\"wind\"]\n",
    "lat = northern_hemisphere[\"lat\"]\n",
    "plt.scatter(x=lat, y=wind, marker = \"o\", facecolor=\"green\", edgecolors = \"green\")\n",
    "plt.title(\"Northern Hemisphere - Wind Speed (mph) vs. Latitudee\")\n",
    "plt.ylabel(\"Wind Speed (mph)\")\n",
    "plt.xlabel(\"Latitude\")\n",
    "#get the slope, intercept, rvalue, pvalue, and standard error\n",
    "(slope, intercept, rvalue, pvalue, stderr) = linregress(lat, wind)\n",
    "regress_values = lat * slope + intercept\n",
    "line_eq = \"y = \" + str(round(slope,2)) + \"x + \" + str(round(intercept,2))\n",
    "plt.plot(lat,regress_values,\"r-\")\n",
    "plt.annotate(line_eq,(6,10),fontsize=15,color=\"red\")\n",
    "#get the correlation\n",
    "correlation = round(st.pearsonr(lat, wind)[0],2)\n",
    "r_sq= round(correlation**2,2)\n",
    "print(f\"{line_eq}\")\n",
    "print(f\"{correlation}\")\n",
    "print(f\"{r_sq}\")\n",
    "#Majority of the cities in the northern hemisphere have low wind speed"
   ]
  },
  {
   "cell_type": "markdown",
   "metadata": {},
   "source": [
    "####  Southern Hemisphere - Wind Speed (mph) vs. Latitude Linear Regression"
   ]
  },
  {
   "cell_type": "code",
   "execution_count": 25,
   "metadata": {},
   "outputs": [
    {
     "name": "stdout",
     "output_type": "stream",
     "text": [
      "y = -0.03x + 7.19\n",
      "-0.07\n",
      "0.0\n"
     ]
    },
    {
     "data": {
      "image/png": "[encoded data removed]",
      "text/plain": [
       "<Figure size 432x288 with 1 Axes>"
      ]
     },
     "metadata": {
      "needs_background": "light"
     },
     "output_type": "display_data"
    }
   ],
   "source": [
    "wind = southern_hemisphere[\"wind\"]\n",
    "lat = southern_hemisphere[\"lat\"]\n",
    "plt.scatter(x=lat, y=wind, marker = \"o\", facecolor=\"green\", edgecolors = \"green\")\n",
    "plt.title(\"Southern Hemisphere - Wind Speed (mph) vs. Latitude\")\n",
    "plt.ylabel(\"Wind Speed (mph)\")\n",
    "plt.xlabel(\"Latitude\")\n",
    "#get the slope, intercept, rvalue, pvalue, and standard error\n",
    "(slope, intercept, rvalue, pvalue, stderr) = linregress(lat, wind)\n",
    "regress_values = lat * slope + intercept\n",
    "line_eq = \"y = \" + str(round(slope,2)) + \"x + \" + str(round(intercept,2))\n",
    "plt.plot(lat,regress_values,\"r-\")\n",
    "plt.annotate(line_eq,(6,10),fontsize=15,color=\"red\")\n",
    "#get the correlation\n",
    "correlation = round(st.pearsonr(lat, wind)[0],2)\n",
    "r_sq= round(correlation**2,2)\n",
    "print(f\"{line_eq}\")\n",
    "print(f\"{correlation}\")\n",
    "print(f\"{r_sq}\")\n",
    "#Majority of the cities in southern hemisphere have low wind speed"
   ]
  },
  {
   "cell_type": "code",
   "execution_count": null,
   "metadata": {},
   "outputs": [],
   "source": []
  }
 ],
 "metadata": {
  "anaconda-cloud": {},
  "kernel_info": {
   "name": "python3"
  },
  "kernelspec": {
   "display_name": "Python 3.8.3 64-bit ('PythonData': conda)",
   "language": "python",
   "name": "python38364bitpythondataconda0414c2187cea4eaeb1607502e7a42879"
  },
  "language_info": {
   "codemirror_mode": {
    "name": "ipython",
    "version": 3
   },
   "file_extension": ".py",
   "mimetype": "text/x-python",
   "name": "python",
   "nbconvert_exporter": "python",
   "pygments_lexer": "ipython3",
   "version": "3.8.3"
  },
  "latex_envs": {
   "LaTeX_envs_menu_present": true,
   "autoclose": false,
   "autocomplete": true,
   "bibliofile": "biblio.bib",
   "cite_by": "apalike",
   "current_citInitial": 1,
   "eqLabelWithNumbers": true,
   "eqNumInitial": 1,
   "hotkeys": {
    "equation": "Ctrl-E",
    "itemize": "Ctrl-I"
   },
   "labels_anchors": false,
   "latex_user_defs": false,
   "report_style_numbering": false,
   "user_envs_cfg": false
  },
  "nteract": {
   "version": "0.12.3"
  }
 },
 "nbformat": 4,
 "nbformat_minor": 2
}
